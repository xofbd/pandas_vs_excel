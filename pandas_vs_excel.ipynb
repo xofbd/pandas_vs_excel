{
 "cells": [
  {
   "cell_type": "markdown",
   "metadata": {},
   "source": [
    "# Pandas and Excel\n",
    "\n",
    "Microsoft Excel is a spreadsheet software, containing data in tabular form. Entries of the data are located in cells, with numbered rows and letter labeled columns. Excel is wide spread across industries and has been around for over thirty years. It often is people's first introduction to data analysis.\n",
    "\n",
    "Most users feel at home using a GUI to operate Excel and no programming is necessary for the most commonly used features of Excel. The data is presented right in front of the user and it is easy to scroll around through the spreadsheet. Making plots from the data only involves highlighting cells in the spreadsheet and a few clicks.\n",
    "\n",
    "There are various short comings with Excel. It is closed source and not free. There are free open-source alternatives like OpenOffice and LibreOffice, but there might be compatibility issues between file formats, especially for complex spreadsheets. Excel becomes unstable for files reaching 500 MB and program unresponsiveness and crashing hurt productivity. Collaborations can become difficult because it is hard to inspect the spread sheet and understand how certain values are calculated/populated. It is hard to understand the users thought process and work flow used to arrive at the analysis\n",
    "\n",
    "The functionality of the spreadsheet is sensitive to the layout and moving entries around can have disastrous effects. Tasks like data cleaning, munging, treating different data types and missing data often difficult and requires manually labor. Finally, the user is limited to the built-in functionality of the program. In short, Excel is great for certain tasks but becomes unwieldy and efficient as the task becomes more complicated\n",
    "\n",
    "The Python library pandas is a great alternative to Excel, providing much of the same functionality and more. Pandas is great for data manipulation, cleaning, analysis, and exploration; additionally, these tasks can be easily automated and reapplied to different datasets. It is built on top of another Python library, NumPy which offers fast and efficient numerical computations. Unlike Excel, it is open-source and free.\n",
    "\n",
    "Some people may be intimidated to use Python and pandas because they will have to move away from the point-and-click GUI approach of Excel, it is possible to get up and running with pandas. Knowing pandas is a great introduction to more powerful and complex data analysis. This article explores how do to some common Excel tasks in pandas, helping people get their feet wet into one of most powerful Python libraries and a key library in data scientist computational stack."
   ]
  },
  {
   "cell_type": "markdown",
   "metadata": {},
   "source": [
    "## Quick Introduction to pandas\n",
    "\n",
    "The equivalent to an Excel spreadsheet in pandas is the `DataFrame` class. It looks like a spreadsheet, with columns, indices, and values at certain indices. For this article, we will exam a case of three spreadsheets, with the first two containing information on a students exam score for a particular exam and the final spreadsheet contains the information on which section the students belongs to. These `DataFrames` are loaded into memory from CSV "
   ]
  },
  {
   "cell_type": "code",
   "execution_count": 2,
   "metadata": {
    "collapsed": true
   },
   "outputs": [],
   "source": [
    "# import pandas library\n",
    "import pandas as pd\n",
    "\n",
    "# create pandas DataFrame from CSV\n",
    "exam_one = pd.read_csv('csv/exam_1.csv')\n",
    "exam_two = pd.read_csv('csv/exam_2.csv')\n",
    "sections = pd.read_csv('csv/sections.csv')\n",
    "\n",
    "# print the top portion of the DataFrame\n",
    "exam_1.head()\n"
   ]
  },
  {
   "cell_type": "markdown",
   "metadata": {},
   "source": [
    "## Vlookup\n",
    "\n",
    "Experienced Excel users rely on Vlookup, a built-in function that searches (looks up) for a value in one column and returns the corresponding value of the another column. For example, if we have two tables with student's name and their score for a particular exam, and we would like to append to the first table a student's respective score for the different exam. A Vlookup can be done in pandas using the `merge` method of a DataFrame\n",
    "\n"
   ]
  },
  {
   "cell_type": "code",
   "execution_count": null,
   "metadata": {
    "collapsed": true
   },
   "outputs": [],
   "source": [
    "exam_1.join(exam_2, )"
   ]
  },
  {
   "cell_type": "markdown",
   "metadata": {},
   "source": [
    "## Pivot Tables\n",
    "\n",
    "Pivot tables are another useful tool in Excel. It allows users to "
   ]
  },
  {
   "cell_type": "code",
   "execution_count": null,
   "metadata": {
    "collapsed": true
   },
   "outputs": [],
   "source": []
  }
 ],
 "metadata": {
  "kernelspec": {
   "display_name": "Python 2",
   "language": "python",
   "name": "python2"
  },
  "language_info": {
   "codemirror_mode": {
    "name": "ipython",
    "version": 2
   },
   "file_extension": ".py",
   "mimetype": "text/x-python",
   "name": "python",
   "nbconvert_exporter": "python",
   "pygments_lexer": "ipython2",
   "version": "2.7.13"
  }
 },
 "nbformat": 4,
 "nbformat_minor": 2
}
