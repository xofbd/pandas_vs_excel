{
 "cells": [
  {
   "cell_type": "markdown",
   "metadata": {},
   "source": [
    "# Pandas and Excel\n",
    "\n",
    "Microsoft Excel is a spreadsheet software, containing data in tabular form. Entries of the data are located in cells, with numbered rows and letter labeled columns. Excel is wide spread across industries and has been around for over thirty years. It often is people's first introduction to data analysis.\n",
    "\n",
    "Most users feel at home using a GUI to operate Excel and no programming is necessary for the most commonly used features of Excel. The data is presented right in front of the user and it is easy to scroll around through the spreadsheet. Making plots from the data only involves highlighting cells in the spreadsheet and a few clicks.\n",
    "\n",
    "There are various short comings with Excel. It is closed source and not free. There are free open-source alternatives like OpenOffice and LibreOffice, but there might be compatibility issues between file formats, especially for complex spreadsheets. Excel becomes unstable for files reaching 500 MB and program unresponsiveness and crashing hurt productivity. Collaborations can become difficult because it is hard to inspect the spread sheet and understand how certain values are calculated/populated. It is hard to understand the users thought process and work flow used to arrive at the analysis\n",
    "\n",
    "The functionality of the spreadsheet is sensitive to the layout and moving entries around can have disastrous effects. Tasks like data cleaning, munging, treating different data types and missing data often difficult and requires manually labor. Finally, the user is limited to the built-in functionality of the program. In short, Excel is great for certain tasks but becomes unwieldy and efficient as the task becomes more complicated\n",
    "\n",
    "The Python library pandas is a great alternative to Excel, providing much of the same functionality and more. Pandas is great for data manipulation, cleaning, analysis, and exploration; additionally, these tasks can be easily automated and reapplied to different datasets. It is built on top of another Python library, NumPy which offers fast and efficient numerical computations. Unlike Excel, it is open-source and free.\n",
    "\n",
    "Some people may be intimidated to use Python and pandas because they will have to move away from the point-and-click GUI approach of Excel, it is possible to get up and running with pandas. Knowing pandas is a great introduction to more powerful and complex data analysis. This article explores how do to some common Excel tasks in pandas, helping people get their feet wet into one of most powerful Python libraries and a key library in data scientist computational stack."
   ]
  },
  {
   "cell_type": "markdown",
   "metadata": {},
   "source": [
    "## Quick Introduction to pandas\n",
    "\n",
    "The equivalent to an Excel spreadsheet in pandas is the `DataFrame` class. It looks like a spreadsheet, with columns, indices, and values at certain indices. For this article, we will exam a case of three spreadsheets, with the first two containing information on a students exam score for a particular exam and the final spreadsheet contains the information on which section the students belongs to. These `DataFrames` are loaded into memory from CSV using the `read_csv` function."
   ]
  },
  {
   "cell_type": "code",
   "execution_count": 21,
   "metadata": {
    "collapsed": false
   },
   "outputs": [
    {
     "data": {
      "text/html": [
       "<div>\n",
       "<style>\n",
       "    .dataframe thead tr:only-child th {\n",
       "        text-align: right;\n",
       "    }\n",
       "\n",
       "    .dataframe thead th {\n",
       "        text-align: left;\n",
       "    }\n",
       "\n",
       "    .dataframe tbody tr th {\n",
       "        vertical-align: top;\n",
       "    }\n",
       "</style>\n",
       "<table border=\"1\" class=\"dataframe\">\n",
       "  <thead>\n",
       "    <tr style=\"text-align: right;\">\n",
       "      <th></th>\n",
       "      <th>Student Name</th>\n",
       "      <th>Exam 2 Score</th>\n",
       "    </tr>\n",
       "  </thead>\n",
       "  <tbody>\n",
       "    <tr>\n",
       "      <th>0</th>\n",
       "      <td>Cecilia Richards</td>\n",
       "      <td>73</td>\n",
       "    </tr>\n",
       "    <tr>\n",
       "      <th>1</th>\n",
       "      <td>Dorothy Harris</td>\n",
       "      <td>75</td>\n",
       "    </tr>\n",
       "    <tr>\n",
       "      <th>2</th>\n",
       "      <td>Edwin Duncan</td>\n",
       "      <td>33</td>\n",
       "    </tr>\n",
       "    <tr>\n",
       "      <th>3</th>\n",
       "      <td>Steve Hayes</td>\n",
       "      <td>42</td>\n",
       "    </tr>\n",
       "    <tr>\n",
       "      <th>4</th>\n",
       "      <td>Jordan Davis</td>\n",
       "      <td>81</td>\n",
       "    </tr>\n",
       "  </tbody>\n",
       "</table>\n",
       "</div>"
      ],
      "text/plain": [
       "       Student Name  Exam 2 Score\n",
       "0  Cecilia Richards            73\n",
       "1    Dorothy Harris            75\n",
       "2      Edwin Duncan            33\n",
       "3       Steve Hayes            42\n",
       "4      Jordan Davis            81"
      ]
     },
     "execution_count": 21,
     "metadata": {},
     "output_type": "execute_result"
    }
   ],
   "source": [
    "# import pandas library\n",
    "import pandas as pd\n",
    "\n",
    "# create pandas DataFrame from CSV\n",
    "exam_one = pd.read_csv('csv/exam_one.csv')\n",
    "exam_two = pd.read_csv('csv/exam_two.csv')\n",
    "sections = pd.read_csv('csv/sections.csv')\n",
    "\n",
    "# print the top five entires of the DataFrame\n",
    "exam_two.head()"
   ]
  },
  {
   "cell_type": "markdown",
   "metadata": {},
   "source": [
    "Columns can be indiviudally selected simply by referring to them by name."
   ]
  },
  {
   "cell_type": "code",
   "execution_count": 22,
   "metadata": {
    "collapsed": false
   },
   "outputs": [
    {
     "data": {
      "text/plain": [
       "0        Edwin Duncan\n",
       "1         Steve Hayes\n",
       "2    Cecilia Richards\n",
       "3      Dorothy Harris\n",
       "4        Jordan Davis\n",
       "Name: Student Name, dtype: object"
      ]
     },
     "execution_count": 22,
     "metadata": {},
     "output_type": "execute_result"
    }
   ],
   "source": [
    "exam_one['Student Name']"
   ]
  },
  {
   "cell_type": "code",
   "execution_count": 23,
   "metadata": {
    "collapsed": false
   },
   "outputs": [
    {
     "data": {
      "text/plain": [
       "Index([u'Student Name', u'Exam 2 Score'], dtype='object')"
      ]
     },
     "execution_count": 23,
     "metadata": {},
     "output_type": "execute_result"
    }
   ],
   "source": [
    "exam_two.columns"
   ]
  },
  {
   "cell_type": "markdown",
   "metadata": {},
   "source": [
    "## Vlookup\n",
    "\n",
    "Experienced Excel users rely on Vlookup, a built-in function that searches (looks up) a specified value in one column and returns the corresponding value of another column. For our example of exam scores, we would like to take a student's second exam score and include it into the table of first exam score. The column of student names may not be in the same order, e.g., the first name in one table may not correpsond to the first name in another table.\n",
    "\n",
    "A Vlookup can be done in pandas using the `merge` method of a DataFrame. The `merge` method takes the second `DataFrame` and the `on` keyword specifies column name to perform that matching on. The result is a new `DataFrame` with both exam scores."
   ]
  },
  {
   "cell_type": "code",
   "execution_count": 24,
   "metadata": {
    "collapsed": false
   },
   "outputs": [
    {
     "data": {
      "text/html": [
       "<div>\n",
       "<style>\n",
       "    .dataframe thead tr:only-child th {\n",
       "        text-align: right;\n",
       "    }\n",
       "\n",
       "    .dataframe thead th {\n",
       "        text-align: left;\n",
       "    }\n",
       "\n",
       "    .dataframe tbody tr th {\n",
       "        vertical-align: top;\n",
       "    }\n",
       "</style>\n",
       "<table border=\"1\" class=\"dataframe\">\n",
       "  <thead>\n",
       "    <tr style=\"text-align: right;\">\n",
       "      <th></th>\n",
       "      <th>Student Name</th>\n",
       "      <th>Exam 1 Score</th>\n",
       "      <th>Exam 2 Score</th>\n",
       "    </tr>\n",
       "  </thead>\n",
       "  <tbody>\n",
       "    <tr>\n",
       "      <th>0</th>\n",
       "      <td>Edwin Duncan</td>\n",
       "      <td>83</td>\n",
       "      <td>33</td>\n",
       "    </tr>\n",
       "    <tr>\n",
       "      <th>1</th>\n",
       "      <td>Steve Hayes</td>\n",
       "      <td>69</td>\n",
       "      <td>42</td>\n",
       "    </tr>\n",
       "    <tr>\n",
       "      <th>2</th>\n",
       "      <td>Cecilia Richards</td>\n",
       "      <td>91</td>\n",
       "      <td>73</td>\n",
       "    </tr>\n",
       "    <tr>\n",
       "      <th>3</th>\n",
       "      <td>Dorothy Harris</td>\n",
       "      <td>53</td>\n",
       "      <td>75</td>\n",
       "    </tr>\n",
       "    <tr>\n",
       "      <th>4</th>\n",
       "      <td>Jordan Davis</td>\n",
       "      <td>76</td>\n",
       "      <td>81</td>\n",
       "    </tr>\n",
       "  </tbody>\n",
       "</table>\n",
       "</div>"
      ],
      "text/plain": [
       "       Student Name   Exam 1 Score  Exam 2 Score\n",
       "0      Edwin Duncan             83            33\n",
       "1       Steve Hayes             69            42\n",
       "2  Cecilia Richards             91            73\n",
       "3    Dorothy Harris             53            75\n",
       "4      Jordan Davis             76            81"
      ]
     },
     "execution_count": 24,
     "metadata": {},
     "output_type": "execute_result"
    }
   ],
   "source": [
    "exam_one.merge(exam_two, on='Student Name')"
   ]
  },
  {
   "cell_type": "markdown",
   "metadata": {},
   "source": [
    "## Pivot Tables\n",
    "\n",
    "Pivot tables are another useful tool in Excel. It allows users to perform data aggregation"
   ]
  },
  {
   "cell_type": "code",
   "execution_count": null,
   "metadata": {
    "collapsed": true
   },
   "outputs": [],
   "source": []
  }
 ],
 "metadata": {
  "kernelspec": {
   "display_name": "Python 2",
   "language": "python",
   "name": "python2"
  },
  "language_info": {
   "codemirror_mode": {
    "name": "ipython",
    "version": 2
   },
   "file_extension": ".py",
   "mimetype": "text/x-python",
   "name": "python",
   "nbconvert_exporter": "python",
   "pygments_lexer": "ipython2",
   "version": "2.7.13"
  }
 },
 "nbformat": 4,
 "nbformat_minor": 2
}
